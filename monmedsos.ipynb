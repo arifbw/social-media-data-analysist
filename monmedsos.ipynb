{
 "cells": [
  {
   "cell_type": "markdown",
   "metadata": {},
   "source": [
    "# Social Media Data Analysist 📈🚀"
   ]
  },
  {
   "cell_type": "code",
   "execution_count": 1,
   "metadata": {},
   "outputs": [],
   "source": [
    "# Import-import library\n",
    "import pandas as pd\n",
    "import streamlit as st\n",
    "\n",
    "from streamlit_jupyter import StreamlitPatcher, tqdm\n",
    "\n",
    "StreamlitPatcher().jupyter()"
   ]
  },
  {
   "cell_type": "markdown",
   "metadata": {},
   "source": [
    "# Load Data Sample"
   ]
  },
  {
   "cell_type": "code",
   "execution_count": 3,
   "metadata": {},
   "outputs": [
    {
     "data": {
      "text/markdown": [
       "### Load Data Sample dari Excel : "
      ],
      "text/plain": [
       "<IPython.core.display.Markdown object>"
      ]
     },
     "metadata": {},
     "output_type": "display_data"
    },
    {
     "data": {
      "text/markdown": [
       "```json\n",
       "{\n",
       "  \"Konten\": {\n",
       "    \"2768\": \"Info lowongan kerja dari @hc_ipgengineering @pt.indoprimagemilang Follow akun @lokergresikjatim untuk mendapatkan informasi lowongan kerja terbaru. Dm/inbox admin bila ditemukan unsur penipuan dalam lowongan kerja tersebut! Hubungi kontak yang tertera Share ke temen-temenmu juga yaa, siapa tau ada yang membutuhkan. #lokersidoarjo #lowongankerjasidoarjo #lokerjatim #lokerjawatimur #lokersurabaya #lowongansurabaya #lowongankerjasurabaya #lokergresik #lowongankerjagresik #lowongangresik #loker #lokerjakarta #lowongankerja #lowongan #lokermadura #lowongankerjamadura #lokergresikjatim #lowongankerjajatim #gresik\",\n",
       "    \"40\": \"#lowongankerja #lokerterbaru #loker2024\",\n",
       "    \"270\": \"\\\\u2584\\\\u2584\\\\u2584\\\\u2584\\\\u2584\\\\u2584\\\\u2584\\\\u2584\\\\u2584\\\\u2584 Yioow.. halo semua !! _ Berikut adalah postingan informasi lowongan kerja silahkan share informasi ini kepada mereka yang sedang membutuhkan pekerjaan. Jangan lupa follow akun @jombangpunya.loker untuk update informasi tentang lowongan kerja yang ada di Jombang !! Semangat kawan, semoga bermanfaat !! #JombangPunyaLoker #lowongankerja #jombang #lowonganpekerjaan #recruitment #jobseeker #interviewkerja #interview #kerja #jobvacancy #jobcareer #jobfair #infoloker #lokerjombang #lokerjbg #lowonganjombang #lokerjatim #infolowongankerja #infolowongan #infojombang #infolowker #lowker #lowongankerja_jombang #lokermojokerto #kotajombang #kerjajombang #infolokerjombang #karirjatim #lokerjombangterkini #lokerjombangterupdate\",\n",
       "    \"2280\": \"\\\\u2022 JANGAN LUPA FOLLOW & SHARE!! BEN GAK KETINGGALAN INFO SEPUTAR LOWONGAN PEKERJAAN REK \\\\u2022 \\\\u2022 [SURABAYA] . Bagikan info lowongan ini ke keluarga,teman,sahabat, dan orang yang membutuhkan info lowongan pekerjaan.\\\\u2800 \\\\u2022\\\\u2800 \\\\u2022\\\\u2800 1. Hindari lowongan pekerjaan dengan modus Travel /penggantian biaya akomodasi selama test berlangsung.\\\\u2800 2. Hindari memberikan sejumlah uang/transfer kepada pihak tertentu yang mengatasnamakan perusahaan.\\\\u2800 3. Cek selalu Website resmi perusahaan tersebut.\\\\u2800 4. Waspada lowongan pekerjaan penipuan imbalan Gaji besar.\\\\u2800 5. Silahkan DM(inbox) laporkan kami jika dirasa lowongan pekerjaan yang kami posting tersebut mencurigakan.\\\\u2800 \\\\u2022 #lowongankerjasurabaya #lowker #lowkersby #surabaya #infolowker #lowker #lowkersurabaya #infolowker #lokersurabaya #lowkermalang #lowonganpekerjaansurabaya\\\\u2800 #lowkersidoarjo #lowkergresik #lowongankerjasidoarjo #lowongankerjajember\",\n",
       "    \"1348\": \"Loker Lampung Terbaru CV. Sumber Makmur Sentosa https://t.co/VSYWHgLcvk\"\n",
       "  },\n",
       "  \"Sumber\": {\n",
       "    \"2768\": \"Instagram\",\n",
       "    \"40\": \"Instagram\",\n",
       "    \"270\": \"Instagram\",\n",
       "    \"2280\": \"Instagram\",\n",
       "    \"1348\": \"Twitter\"\n",
       "  }\n",
       "}\n",
       "```"
      ],
      "text/plain": [
       "<IPython.core.display.Markdown object>"
      ]
     },
     "metadata": {},
     "output_type": "display_data"
    }
   ],
   "source": [
    "st.subheader(\"Load Data Sample dari Excel : \")\n",
    "data_sample = pd.ExcelFile('data_sample.xlsx')\n",
    "\n",
    "df = pd.read_excel(data_sample, sheet_name=\"Media Sosial\")\n",
    "\n",
    "# st.dataframe(df[[\"Akun/Judul\",\"Konten\",\"Url\"]].sample(5))\n",
    "\n",
    "st.json(df[[\"Konten\", \"Sumber\"]].sample(5).to_json())"
   ]
  }
 ],
 "metadata": {
  "kernelspec": {
   "display_name": "Python 3",
   "language": "python",
   "name": "python3"
  },
  "language_info": {
   "codemirror_mode": {
    "name": "ipython",
    "version": 3
   },
   "file_extension": ".py",
   "mimetype": "text/x-python",
   "name": "python",
   "nbconvert_exporter": "python",
   "pygments_lexer": "ipython3",
   "version": "3.12.7"
  }
 },
 "nbformat": 4,
 "nbformat_minor": 2
}
